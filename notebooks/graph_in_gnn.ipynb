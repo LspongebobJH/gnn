{
 "cells": [
  {
   "cell_type": "code",
   "execution_count": 1,
   "id": "6d132516-3930-46dc-b529-2745d414eb07",
   "metadata": {},
   "outputs": [],
   "source": [
    "import os\n",
    "import numpy as np\n",
    "import pandas as pd\n",
    "import pickle\n",
    "import seaborn as sns\n",
    "import matplotlib.pyplot as plt\n",
    "\n",
    "data_path = '/Users/jiahang/Documents/gnn/dataset'"
   ]
  },
  {
   "cell_type": "code",
   "execution_count": 3,
   "id": "90f5f5c7-d4c5-440d-bd8a-57c49191036a",
   "metadata": {},
   "outputs": [],
   "source": [
    "path = os.path.join(data_path, 'FC_Fisher_Z_transformed.pkl')\n",
    "with open(path, 'rb') as f:\n",
    "    data_FC = pickle.load(f)\n",
    "\n",
    "path = os.path.join(data_path, 'SC.pkl')\n",
    "with open(path, 'rb') as f:\n",
    "    data_SC = pickle.load(f)\n",
    "\n",
    "path = os.path.join(data_path, 'T1.pkl')\n",
    "with open(path, 'rb') as f:\n",
    "    data_T1 = pickle.load(f)\n",
    "\n",
    "path = os.path.join(data_path, 'demo.pkl')\n",
    "with open(path, 'rb') as f:\n",
    "    data_demo = pickle.load(f)"
   ]
  },
  {
   "cell_type": "code",
   "execution_count": 4,
   "id": "19ad032c-d5e9-464d-8edc-543323cec814",
   "metadata": {},
   "outputs": [
    {
     "data": {
      "text/plain": [
       "528"
      ]
     },
     "execution_count": 4,
     "metadata": {},
     "output_type": "execute_result"
    }
   ],
   "source": [
    "len(data_FC)"
   ]
  },
  {
   "cell_type": "code",
   "execution_count": 5,
   "id": "3fbc24ac-878e-43c1-a136-46a9c32b2225",
   "metadata": {},
   "outputs": [
    {
     "data": {
      "text/plain": [
       "636"
      ]
     },
     "execution_count": 5,
     "metadata": {},
     "output_type": "execute_result"
    }
   ],
   "source": [
    "len(data_SC)"
   ]
  },
  {
   "cell_type": "code",
   "execution_count": 7,
   "id": "16b79fc5-c7b8-4995-8fd8-3a2f18833877",
   "metadata": {},
   "outputs": [
    {
     "data": {
      "text/plain": [
       "642"
      ]
     },
     "execution_count": 7,
     "metadata": {},
     "output_type": "execute_result"
    }
   ],
   "source": [
    "len(data_T1)"
   ]
  },
  {
   "cell_type": "code",
   "execution_count": 8,
   "id": "84d55da5-7833-4f42-beea-4ea5958072ce",
   "metadata": {},
   "outputs": [
    {
     "data": {
      "text/plain": [
       "528"
      ]
     },
     "execution_count": 8,
     "metadata": {},
     "output_type": "execute_result"
    }
   ],
   "source": [
    "len(data_demo)"
   ]
  },
  {
   "cell_type": "code",
   "execution_count": 10,
   "id": "2fc8f44c-9633-4d7a-82ca-3d187d01ded4",
   "metadata": {},
   "outputs": [],
   "source": [
    "cnt_fc = 0\n",
    "for name_fc in data_FC.keys():\n",
    "    if name_fc not in data_SC.keys():\n",
    "        cnt_fc += 1"
   ]
  },
  {
   "cell_type": "code",
   "execution_count": 16,
   "id": "5898121a-dbe4-4f77-9cd7-2d42a679a7c5",
   "metadata": {},
   "outputs": [
    {
     "data": {
      "text/plain": [
       "14"
      ]
     },
     "execution_count": 16,
     "metadata": {},
     "output_type": "execute_result"
    }
   ],
   "source": [
    "cnt_fc # there are 14 fc which are not in sc"
   ]
  },
  {
   "cell_type": "code",
   "execution_count": 12,
   "id": "e7b53cc5-ef27-4fe9-82cb-42297d321852",
   "metadata": {},
   "outputs": [],
   "source": [
    "cnt_sc = 0\n",
    "for name_sc in data_SC.keys():\n",
    "    if name_sc not in data_FC.keys():\n",
    "        cnt_sc += 1"
   ]
  },
  {
   "cell_type": "code",
   "execution_count": 15,
   "id": "253709a1-e4cc-464d-95fc-788479d5bbbf",
   "metadata": {},
   "outputs": [
    {
     "data": {
      "text/plain": [
       "122"
      ]
     },
     "execution_count": 15,
     "metadata": {},
     "output_type": "execute_result"
    }
   ],
   "source": [
    "cnt_sc # there are 122 sc which are not in fc"
   ]
  },
  {
   "cell_type": "code",
   "execution_count": null,
   "id": "01c5ca40-9559-4d70-8fd2-2461f8267156",
   "metadata": {},
   "outputs": [],
   "source": []
  }
 ],
 "metadata": {
  "kernelspec": {
   "display_name": "Python 3 (ipykernel)",
   "language": "python",
   "name": "python3"
  },
  "language_info": {
   "codemirror_mode": {
    "name": "ipython",
    "version": 3
   },
   "file_extension": ".py",
   "mimetype": "text/x-python",
   "name": "python",
   "nbconvert_exporter": "python",
   "pygments_lexer": "ipython3",
   "version": "3.9.20"
  }
 },
 "nbformat": 4,
 "nbformat_minor": 5
}
